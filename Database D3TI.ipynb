{
 "cells": [
  {
   "cell_type": "code",
   "execution_count": 4,
   "id": "c7685921",
   "metadata": {},
   "outputs": [],
   "source": [
    "import mysql.connector #import library untuk menghubungkan ke mysql\n",
    "\n",
    "# buat koneksi ke database\n",
    "db = mysql.connector.connect(\n",
    "  host=\"localhost\",\n",
    "  user=\"root\",\n",
    "  password=\"\"\n",
    ")\n",
    "\n",
    "# buat kursor\n",
    "crs = db.cursor()\n",
    "\n",
    "# buat database D3TI\n",
    "crs.execute(\"CREATE DATABASE D3TI\")\n",
    "\n",
    "# gunakan database D3TI\n",
    "crs.execute(\"USE D3TI\")\n",
    "\n",
    "# buat tabel Mata_Kuliah\n",
    "crs.execute(\"CREATE TABLE Mata_Kuliah (\\\n",
    "  Kode_MK VARCHAR(10) PRIMARY KEY, \\\n",
    "  Nama_MK VARCHAR(50), \\\n",
    "  Waktu DATE, \\\n",
    "  Ruangan VARCHAR(10) \\\n",
    ")\")\n",
    "\n",
    "# buat tabel Mahasiswa\n",
    "crs.execute(\"CREATE TABLE Mahasiswa (\\\n",
    "  NIM VARCHAR(10) PRIMARY KEY, \\\n",
    "  Nama VARCHAR(30), \\\n",
    "  Alamat VARCHAR(255), \\\n",
    "  Mata_kuliah VARCHAR(10), \\\n",
    "  Tahun_Angkatan CHAR(4), \\\n",
    "  FOREIGN KEY (Mata_kuliah) REFERENCES Mata_Kuliah(Kode_MK) \\\n",
    ")\")\n",
    "\n",
    "# buat tabel Dosen\n",
    "crs.execute(\"CREATE TABLE Dosen (\\\n",
    "  NIP VARCHAR(20) PRIMARY KEY, \\\n",
    "  Nama_Dosen VARCHAR(50), \\\n",
    "  Mata_Kuliah VARCHAR(10), \\\n",
    "  FOREIGN KEY (Mata_Kuliah) REFERENCES Mata_Kuliah(Kode_MK) \\\n",
    ")\")\n",
    "\n",
    "\n"
   ]
  },
  {
   "cell_type": "code",
   "execution_count": null,
   "id": "7a638c40",
   "metadata": {},
   "outputs": [],
   "source": [
    "#menambah data pada tabel mata kuliah\n",
    "#menyimpan query insert ke variable sql\n",
    "sql = \"INSERT INTO Mata_Kuliah (Kode_MK, Nama_MK, Waktu, Ruangan) VALUES (%s, %s, %s, %s)\" \n",
    "#menyimpan data yang akan ditambhkan dengan list\n",
    "val = [\n",
    "  (\"Mk001\", \"Algoritma dan Struktur Data\", \"2023-04-01\", \"A1\"),\n",
    "  (\"Mk002\", \"Pemrograman Berorientasi Objek\", \"2023-04-02\", \"B1\"),\n",
    "  (\"Mk003\", \"Sistem Operasi\", \"2023-04-03\", \"C1\"),\n",
    "  (\"Mk004\", \"Jaringan Komputer\", \"2023-04-04\", \"D1\"),\n",
    "  (\"Mk005\", \"Basis Data\", \"2023-04-05\", \"E1\"),\n",
    "  (\"Mk006\", \"Interaksi Manusia dan Komputer\", \"2023-04-06\", \"F1\"),\n",
    "  (\"Mk007\", \"Komputer dan Masyarakat\", \"2023-04-07\", \"G1\"),\n",
    "  (\"Mk008\", \"Rekayasa Perangkat Lunak\", \"2023-04-08\", \"H1\"),\n",
    "  (\"Mk009\", \"Kecerdasan Buatan\", \"2023-04-09\", \"I1\"),\n",
    "  (\"Mk010\", \"Analisis dan Perancangan Sistem Informasi\", \"2023-04-10\", \"J1\")\n",
    "]\n",
    "#mengeksekusi multiple data diatas\n",
    "crs.executemany(sql, val)\n",
    "#commit database\n",
    "db.commit()"
   ]
  },
  {
   "cell_type": "code",
   "execution_count": 6,
   "id": "bcce3db3",
   "metadata": {},
   "outputs": [
    {
     "name": "stdout",
     "output_type": "stream",
     "text": [
      "10 data berhasil disimpan pada tabel Dosen.\n"
     ]
    }
   ],
   "source": [
    "#menambah data pada tabel dosen\n",
    "#menyimpan query insert ke variable sql\n",
    "\n",
    "sql = \"INSERT INTO Dosen (NIP, Nama_Dosen, Mata_Kuliah) VALUES (%s, %s, %s)\"\n",
    "#menyimpan data yang akan ditambhkan dengan list\n",
    "val = [\n",
    "  ('1234567890', 'Robert Downey Jr.', 'MK001'),\n",
    "  ('2345678901', 'Tom Hanks', 'MK002'),\n",
    "  ('3456789012', 'Keanu Reeves', 'MK003'),\n",
    "  ('4567890123', 'Gong Yoo', 'MK004'),\n",
    "  ('5678901234', 'Lee Min-ho', 'MK005'),\n",
    "  ('6789012345', 'Song Joong-ki', 'MK006'),\n",
    "  ('7890123456', 'Kim Soo-hyun', 'MK007'),\n",
    "  ('8901234567', 'Yamazaki Kento', 'MK008'),\n",
    "  ('9012345678', 'Suda Masaki', 'MK009'),\n",
    "  ('0123456789', 'Kento Nakajima', 'MK010')\n",
    "]\n",
    "#mengeksekusi multiple data diatas\n",
    "crs.executemany(sql, val)\n",
    "#commit database\n",
    "db.commit()\n",
    "\n",
    "print(crs.rowcount, \"data berhasil disimpan pada tabel Dosen.\")"
   ]
  },
  {
   "cell_type": "code",
   "execution_count": 11,
   "id": "c6156f63",
   "metadata": {},
   "outputs": [
    {
     "name": "stdout",
     "output_type": "stream",
     "text": [
      "30 data berhasil disimpan pada tabel Mahasiswa.\n"
     ]
    }
   ],
   "source": [
    "#menambah data pada tabel mahasiswa\n",
    "#menyimpan query insert ke variable sql\n",
    "sql = \"INSERT INTO Mahasiswa (NIM, Nama, Alamat, Mata_kuliah, Tahun_angkatan) VALUES (%s, %s, %s, %s, %s)\"\n",
    "#menyimpan data yang akan ditambhkan dengan list\n",
    "val = [\n",
    "('V39220001', 'Choi Jungwoo', 'Jakarta', 'Mk010', '2019'),\n",
    "       ('V39220002', 'Ni-Ki', 'Surabaya', 'Mk004', '2020'),\n",
    "       ('V39220003', 'Bang Chan', 'Yogyakarta', 'Mk005', '2021'),\n",
    "       ('V39220004', 'Kei', 'Bandung', 'Mk006', '2019'),\n",
    "       ('V39220005', 'Mujin', 'Surabaya', 'Mk007', '2020'),\n",
    "       ('V39220006', 'Sunghoon', 'Jakarta', 'Mk008', '2021'),\n",
    "       ('V39220007', 'Shotaro', 'Yogyakarta', 'Mk006', '2023'),\n",
    "       ('V39220008', 'Kevin', 'Surabaya', 'Mk010', '2019'),\n",
    "       ('V39220009', 'Hwall', 'Bandung', 'Mk001', '2020'),\n",
    "       ('V39220010', 'Aria', 'Jakarta', 'Mk002', '2021'),\n",
    "       ('V39220011', 'Doyoung', 'Yogyakarta', 'Mk003', '2019'),\n",
    "       ('V39220012', 'Sunoo', 'Surabaya', 'Mk004', '2020'),\n",
    "       ('V39220013', 'Jaemin', 'Bandung', 'Mk005', '2021'),\n",
    "       ('V39220014', 'Juyeon', 'Jakarta', 'Mk006', '2019'),\n",
    "       ('V39220015', 'Yuta', 'Surabaya', 'Mk007', '2020'),\n",
    "       ('V39220016', 'Heeseung', 'Yogyakarta', 'Mk008', '2021'),\n",
    "       ('V39220017', 'Laeli', 'Jakarta', 'Mk009', '2023'),\n",
    "       ('V39220018', 'Jungwon', 'Surabaya', 'Mk010', '2019'),\n",
    "       ('V39220019', 'Ririn', 'Bandung', 'Mk001', '2020'),\n",
    "       ('V39220020', 'Jaehyun', 'Jakarta', 'Mk002', '2021'),\n",
    "       ('V39220021', 'Jake', 'Yogyakarta', 'Mk010', '2019'),\n",
    "       ('V39220022', 'Sunghyoon', 'Surabaya', 'Mk004', '2020'),\n",
    "       ('V39220023', 'Rowoon', 'Bandung', 'Mk005', '2021'),\n",
    "       ('V39220024', 'Jihoon', 'Jakarta', 'Mk006', '2019'),\n",
    "       ('V39220025', 'Niki', 'Surabaya', 'Mk007', '2020'),\n",
    "       ('V39220026', 'Jay', 'Yogyakarta', 'Mk008', '2021'),\n",
    "       ('V39220027', 'Salsa', 'Jakarta', 'Mk009', '2023'),\n",
    "       ('V39220028', 'Chanhee', 'Surabaya', 'Mk009', '2019'),\n",
    "       ('V39220029', 'Taki', 'Bandung', 'Mk001', '2020'),\n",
    "       ('V39220030', 'Chanyeol','Magetan', 'Mk001','2019')\n",
    "]\n",
    "#mengeksekusi multiple data diatas\n",
    "crs.executemany(sql, val)\n",
    "#commit database\n",
    "db.commit()\n",
    "\n",
    "print(crs.rowcount, \"data berhasil disimpan pada tabel Mahasiswa.\")"
   ]
  },
  {
   "cell_type": "code",
   "execution_count": null,
   "id": "cd576c63",
   "metadata": {},
   "outputs": [],
   "source": []
  }
 ],
 "metadata": {
  "kernelspec": {
   "display_name": "Python 3 (ipykernel)",
   "language": "python",
   "name": "python3"
  },
  "language_info": {
   "codemirror_mode": {
    "name": "ipython",
    "version": 3
   },
   "file_extension": ".py",
   "mimetype": "text/x-python",
   "name": "python",
   "nbconvert_exporter": "python",
   "pygments_lexer": "ipython3",
   "version": "3.9.12"
  }
 },
 "nbformat": 4,
 "nbformat_minor": 5
}
